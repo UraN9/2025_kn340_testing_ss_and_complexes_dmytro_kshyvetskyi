{
 "cells": [
  {
   "cell_type": "markdown",
   "id": "181eb68f",
   "metadata": {},
   "source": [
    "## Базові перевірки/твердження assert"
   ]
  },
  {
   "cell_type": "code",
   "execution_count": 2,
   "id": "87dc262b",
   "metadata": {},
   "outputs": [
    {
     "ename": "KeyboardInterrupt",
     "evalue": "Interrupted by user",
     "output_type": "error",
     "traceback": [
      "\u001b[31m---------------------------------------------------------------------------\u001b[39m",
      "\u001b[31mKeyboardInterrupt\u001b[39m                         Traceback (most recent call last)",
      "\u001b[36mCell\u001b[39m\u001b[36m \u001b[39m\u001b[32mIn[2]\u001b[39m\u001b[32m, line 1\u001b[39m\n\u001b[32m----> \u001b[39m\u001b[32m1\u001b[39m a = \u001b[38;5;28;43minput\u001b[39;49m\u001b[43m(\u001b[49m\u001b[33;43m\"\u001b[39;49m\u001b[33;43mВведіть число: \u001b[39;49m\u001b[33;43m\"\u001b[39;49m\u001b[43m)\u001b[49m\n\u001b[32m      2\u001b[39m \u001b[38;5;28;01massert\u001b[39;00m a.isdigit(), \u001b[33m\"\u001b[39m\u001b[33mВведено не число\u001b[39m\u001b[33m\"\u001b[39m\n\u001b[32m      3\u001b[39m \u001b[38;5;28mprint\u001b[39m(\u001b[33mf\u001b[39m\u001b[33m\"\u001b[39m\u001b[33mВведено: \u001b[39m\u001b[38;5;132;01m{\u001b[39;00ma\u001b[38;5;132;01m}\u001b[39;00m\u001b[33m\"\u001b[39m)\n",
      "\u001b[36mFile \u001b[39m\u001b[32m~\\AppData\\Roaming\\Python\\Python313\\site-packages\\ipykernel\\kernelbase.py:1275\u001b[39m, in \u001b[36mKernel.raw_input\u001b[39m\u001b[34m(self, prompt)\u001b[39m\n\u001b[32m   1273\u001b[39m     msg = \u001b[33m\"\u001b[39m\u001b[33mraw_input was called, but this frontend does not support input requests.\u001b[39m\u001b[33m\"\u001b[39m\n\u001b[32m   1274\u001b[39m     \u001b[38;5;28;01mraise\u001b[39;00m StdinNotImplementedError(msg)\n\u001b[32m-> \u001b[39m\u001b[32m1275\u001b[39m \u001b[38;5;28;01mreturn\u001b[39;00m \u001b[38;5;28;43mself\u001b[39;49m\u001b[43m.\u001b[49m\u001b[43m_input_request\u001b[49m\u001b[43m(\u001b[49m\n\u001b[32m   1276\u001b[39m \u001b[43m    \u001b[49m\u001b[38;5;28;43mstr\u001b[39;49m\u001b[43m(\u001b[49m\u001b[43mprompt\u001b[49m\u001b[43m)\u001b[49m\u001b[43m,\u001b[49m\n\u001b[32m   1277\u001b[39m \u001b[43m    \u001b[49m\u001b[38;5;28;43mself\u001b[39;49m\u001b[43m.\u001b[49m\u001b[43m_parent_ident\u001b[49m\u001b[43m[\u001b[49m\u001b[33;43m\"\u001b[39;49m\u001b[33;43mshell\u001b[39;49m\u001b[33;43m\"\u001b[39;49m\u001b[43m]\u001b[49m\u001b[43m,\u001b[49m\n\u001b[32m   1278\u001b[39m \u001b[43m    \u001b[49m\u001b[38;5;28;43mself\u001b[39;49m\u001b[43m.\u001b[49m\u001b[43mget_parent\u001b[49m\u001b[43m(\u001b[49m\u001b[33;43m\"\u001b[39;49m\u001b[33;43mshell\u001b[39;49m\u001b[33;43m\"\u001b[39;49m\u001b[43m)\u001b[49m\u001b[43m,\u001b[49m\n\u001b[32m   1279\u001b[39m \u001b[43m    \u001b[49m\u001b[43mpassword\u001b[49m\u001b[43m=\u001b[49m\u001b[38;5;28;43;01mFalse\u001b[39;49;00m\u001b[43m,\u001b[49m\n\u001b[32m   1280\u001b[39m \u001b[43m\u001b[49m\u001b[43m)\u001b[49m\n",
      "\u001b[36mFile \u001b[39m\u001b[32m~\\AppData\\Roaming\\Python\\Python313\\site-packages\\ipykernel\\kernelbase.py:1320\u001b[39m, in \u001b[36mKernel._input_request\u001b[39m\u001b[34m(self, prompt, ident, parent, password)\u001b[39m\n\u001b[32m   1317\u001b[39m \u001b[38;5;28;01mexcept\u001b[39;00m \u001b[38;5;167;01mKeyboardInterrupt\u001b[39;00m:\n\u001b[32m   1318\u001b[39m     \u001b[38;5;66;03m# re-raise KeyboardInterrupt, to truncate traceback\u001b[39;00m\n\u001b[32m   1319\u001b[39m     msg = \u001b[33m\"\u001b[39m\u001b[33mInterrupted by user\u001b[39m\u001b[33m\"\u001b[39m\n\u001b[32m-> \u001b[39m\u001b[32m1320\u001b[39m     \u001b[38;5;28;01mraise\u001b[39;00m \u001b[38;5;167;01mKeyboardInterrupt\u001b[39;00m(msg) \u001b[38;5;28;01mfrom\u001b[39;00m\u001b[38;5;250m \u001b[39m\u001b[38;5;28;01mNone\u001b[39;00m\n\u001b[32m   1321\u001b[39m \u001b[38;5;28;01mexcept\u001b[39;00m \u001b[38;5;167;01mException\u001b[39;00m:\n\u001b[32m   1322\u001b[39m     \u001b[38;5;28mself\u001b[39m.log.warning(\u001b[33m\"\u001b[39m\u001b[33mInvalid Message:\u001b[39m\u001b[33m\"\u001b[39m, exc_info=\u001b[38;5;28;01mTrue\u001b[39;00m)\n",
      "\u001b[31mKeyboardInterrupt\u001b[39m: Interrupted by user"
     ]
    }
   ],
   "source": [
    "a = input(\"Введіть число: \")\n",
    "assert a.isdigit(), \"Введено не число\"\n",
    "print(f\"Введено: {a}\")"
   ]
  },
  {
   "cell_type": "code",
   "execution_count": null,
   "id": "b6a222ce",
   "metadata": {},
   "outputs": [
    {
     "name": "stdout",
     "output_type": "stream",
     "text": [
      "Молодець що спілкуєшся українською!\n"
     ]
    }
   ],
   "source": [
    "b = input(\"Введіть слово українською мовою: \")\n",
    "import re\n",
    "if bool(re.fullmatch(r\"[А-Яа-яІіЇїЄєҐґ]+\", b)):\n",
    "    print(\"Молодець що спілкуєшся українською!\")\n",
    "else:\n",
    "    raise AssertionError(\"Ми просили спілкуватися українською мовою!\")\n",
    "\n",
    "\n"
   ]
  },
  {
   "cell_type": "markdown",
   "id": "a06f9bcd",
   "metadata": {},
   "source": [
    "# Приклад реального життя\n",
    "- Просумувати можна лише числа у списку але не одне число"
   ]
  },
  {
   "cell_type": "code",
   "execution_count": null,
   "id": "6c58d081",
   "metadata": {},
   "outputs": [
    {
     "data": {
      "text/plain": [
       "1"
      ]
     },
     "execution_count": 23,
     "metadata": {},
     "output_type": "execute_result"
    }
   ],
   "source": [
    "ll = [1]   \n",
    "isinstance(ll, list)\n",
    "\n",
    "# sum(1) # Це буде помилка, одне число не можна просумувати\n",
    "sum([1]) # Одне число у списку можна просумувати"
   ]
  },
  {
   "cell_type": "code",
   "execution_count": 30,
   "id": "0e0681ad",
   "metadata": {},
   "outputs": [
    {
     "name": "stdout",
     "output_type": "stream",
     "text": [
      "Передано 5 яке має тип <class 'str'>\n"
     ]
    }
   ],
   "source": [
    "from typing import Any, List\n",
    "def my_func(a: Any):\n",
    "    # assert isinstance(a, Any), \"a має бути цілим числом\"\n",
    "    print(f\"Передано {a} яке має тип {type(a)}\")\n",
    "\n",
    "# my_func() # TypeError: my_func() missing 1 required positional argument: 'a'\n",
    "my_func(\"5\")"
   ]
  },
  {
   "cell_type": "markdown",
   "id": "bc5fc7db",
   "metadata": {},
   "source": [
    "- використання різних перевірок разом з твердженнями"
   ]
  },
  {
   "cell_type": "code",
   "execution_count": 7,
   "id": "926ed7e2",
   "metadata": {},
   "outputs": [],
   "source": [
    "n1 = 2\n",
    "max_number = 3\n",
    "assert n1 < max_number, f\"n1={n1} має бути менше {max_number}\"\n",
    "assert n1 == 2, f\"n1={n1} має бути рівне 2\"\n",
    "assert n1 != 5, f\"n1={n1} не рівне 5\"\n",
    "\n",
    "n2 = 2.0\n",
    "assert n1 == n2\n",
    "# # Тут буде помилка, бо це різні об'єкти в пам'яті\n",
    "# # AssertionError: n1=2 і n2=2.0 мають бути тим самим об'єктом в пам'яті\n",
    "# assert n1 is n2, f\"n1={n1} і n2={n2} мають бути тим самим об'єктом в пам'яті\"\n",
    "\n"
   ]
  },
  {
   "cell_type": "code",
   "execution_count": 9,
   "id": "cfffeefe",
   "metadata": {},
   "outputs": [
    {
     "ename": "AssertionError",
     "evalue": "",
     "output_type": "error",
     "traceback": [
      "\u001b[31m---------------------------------------------------------------------------\u001b[39m",
      "\u001b[31mAssertionError\u001b[39m                            Traceback (most recent call last)",
      "\u001b[36mCell\u001b[39m\u001b[36m \u001b[39m\u001b[32mIn[9]\u001b[39m\u001b[32m, line 8\u001b[39m\n\u001b[32m      5\u001b[39m num1 = TheNumber(\u001b[32m5\u001b[39m)\n\u001b[32m      6\u001b[39m num2 = TheNumber(\u001b[32m5\u001b[39m)\n\u001b[32m----> \u001b[39m\u001b[32m8\u001b[39m \u001b[38;5;28;01massert\u001b[39;00m num1 \u001b[38;5;129;01mis\u001b[39;00m num2\n",
      "\u001b[31mAssertionError\u001b[39m: "
     ]
    }
   ],
   "source": [
    "class TheNumber:\n",
    "    def __init__(self, n):\n",
    "        self.n = n\n",
    "\n",
    "num1 = TheNumber(5)\n",
    "num2 = TheNumber(5)\n",
    "\n",
    "assert num1 is num2"
   ]
  },
  {
   "cell_type": "code",
   "execution_count": 15,
   "id": "b8c36e6c",
   "metadata": {},
   "outputs": [
    {
     "name": "stdout",
     "output_type": "stream",
     "text": [
      "0\n",
      "1\n",
      "2\n",
      "3\n",
      "4\n",
      "5\n",
      "6\n",
      "7\n",
      "8\n",
      "9\n"
     ]
    },
    {
     "ename": "AssertionError",
     "evalue": "my_always_fails має повертати True",
     "output_type": "error",
     "traceback": [
      "\u001b[31m---------------------------------------------------------------------------\u001b[39m",
      "\u001b[31mAssertionError\u001b[39m                            Traceback (most recent call last)",
      "\u001b[36mCell\u001b[39m\u001b[36m \u001b[39m\u001b[32mIn[15]\u001b[39m\u001b[32m, line 6\u001b[39m\n\u001b[32m      3\u001b[39m         \u001b[38;5;28mprint\u001b[39m(i)\n\u001b[32m      4\u001b[39m     \u001b[38;5;28;01mreturn\u001b[39;00m i > \u001b[32m10\u001b[39m \u001b[38;5;66;03m#\"Ця функція завжди повертає False\"\u001b[39;00m\n\u001b[32m----> \u001b[39m\u001b[32m6\u001b[39m \u001b[38;5;28;01massert\u001b[39;00m my_always_fails(), \u001b[33m\"\u001b[39m\u001b[33mmy_always_fails має повертати True\u001b[39m\u001b[33m\"\u001b[39m\n",
      "\u001b[31mAssertionError\u001b[39m: my_always_fails має повертати True"
     ]
    }
   ],
   "source": [
    "def my_always_fails() -> bool:\n",
    "    for i in range(10):\n",
    "        print(i)\n",
    "    return i > 10 #\"Ця функція завжди повертає False\"\n",
    "\n",
    "assert my_always_fails(), \"my_always_fails має повертати True\""
   ]
  },
  {
   "cell_type": "code",
   "execution_count": null,
   "id": "2987f3b9",
   "metadata": {},
   "outputs": [],
   "source": [
    "import math\n",
    "ll = [-1, -2, 0]\n",
    "# Перевіряємо чи з набору чисел можна отриамати їх корені\n",
    "assert [math.sqrt(i) for i in ll if i > 1], \"Перевірка квадратів чисел\""
   ]
  },
  {
   "cell_type": "code",
   "execution_count": 22,
   "id": "4a5953ab",
   "metadata": {},
   "outputs": [
    {
     "ename": "ValueError",
     "evalue": "math domain error",
     "output_type": "error",
     "traceback": [
      "\u001b[31m---------------------------------------------------------------------------\u001b[39m",
      "\u001b[31mValueError\u001b[39m                                Traceback (most recent call last)",
      "\u001b[36mCell\u001b[39m\u001b[36m \u001b[39m\u001b[32mIn[22]\u001b[39m\u001b[32m, line 1\u001b[39m\n\u001b[32m----> \u001b[39m\u001b[32m1\u001b[39m \u001b[43mmath\u001b[49m\u001b[43m.\u001b[49m\u001b[43msqrt\u001b[49m\u001b[43m(\u001b[49m\u001b[43m-\u001b[49m\u001b[32;43m4\u001b[39;49m\u001b[43m)\u001b[49m\n",
      "\u001b[31mValueError\u001b[39m: math domain error"
     ]
    }
   ],
   "source": [
    "math.sqrt(-4)"
   ]
  },
  {
   "cell_type": "markdown",
   "id": "2fca71a9",
   "metadata": {},
   "source": [
    "- перевірка на API, приклад коли в одній версії такий функціонал існує, а в наступній версії вже ні"
   ]
  },
  {
   "cell_type": "code",
   "execution_count": null,
   "id": "eb8d830f",
   "metadata": {},
   "outputs": [
    {
     "name": "stdout",
     "output_type": "stream",
     "text": [
      "1\n"
     ]
    }
   ],
   "source": [
    "dd = {\"a\": 1, \"b\": 2}\n",
    "assert \"c\" in dd, \"Перевірка наявності ключа у словнику\"\n",
    "print(dd[\"c\"])"
   ]
  }
 ],
 "metadata": {
  "kernelspec": {
   "display_name": "Python 3",
   "language": "python",
   "name": "python3"
  },
  "language_info": {
   "codemirror_mode": {
    "name": "ipython",
    "version": 3
   },
   "file_extension": ".py",
   "mimetype": "text/x-python",
   "name": "python",
   "nbconvert_exporter": "python",
   "pygments_lexer": "ipython3",
   "version": "3.13.7"
  }
 },
 "nbformat": 4,
 "nbformat_minor": 5
}
