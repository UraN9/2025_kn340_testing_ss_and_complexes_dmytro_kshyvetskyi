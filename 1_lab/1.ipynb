{
 "cells": [
  {
   "cell_type": "code",
   "execution_count": 21,
   "id": "87dc262b",
   "metadata": {},
   "outputs": [
    {
     "name": "stdout",
     "output_type": "stream",
     "text": [
      "Введено: 9\n"
     ]
    }
   ],
   "source": [
    "a = input(\"Введіть число: \")\n",
    "assert a.isdigit(), \"Введено не число\"\n",
    "print(f\"Введено: {a}\")"
   ]
  },
  {
   "cell_type": "code",
   "execution_count": 20,
   "id": "b6a222ce",
   "metadata": {},
   "outputs": [
    {
     "name": "stdout",
     "output_type": "stream",
     "text": [
      "Молодець що спілкуєшся українською!\n"
     ]
    }
   ],
   "source": [
    "b = input(\"Введіть слово українською мовою: \")\n",
    "import re\n",
    "if bool(re.fullmatch(r\"[А-Яа-яІіЇїЄєҐґ]+\", b)):\n",
    "    print(\"Молодець що спілкуєшся українською!\")\n",
    "else:\n",
    "    raise AssertionError(\"Ми просили спілкуватися українською мовою!\")\n",
    "\n",
    "\n"
   ]
  },
  {
   "cell_type": "markdown",
   "id": "a06f9bcd",
   "metadata": {},
   "source": [
    "# Приклад реального життя\n",
    "- Просумувати можна лише числа у списку але не одне число"
   ]
  },
  {
   "cell_type": "code",
   "execution_count": null,
   "id": "6c58d081",
   "metadata": {},
   "outputs": [
    {
     "data": {
      "text/plain": [
       "1"
      ]
     },
     "execution_count": 23,
     "metadata": {},
     "output_type": "execute_result"
    }
   ],
   "source": [
    "ll = [1]   \n",
    "isinstance(ll, list)\n",
    "\n",
    "# sum(1) # Це буде помилка, одне число не можна просумувати\n",
    "sum([1]) # Одне число у списку можна просумувати"
   ]
  },
  {
   "cell_type": "code",
   "execution_count": 30,
   "id": "0e0681ad",
   "metadata": {},
   "outputs": [
    {
     "name": "stdout",
     "output_type": "stream",
     "text": [
      "Передано 5 яке має тип <class 'str'>\n"
     ]
    }
   ],
   "source": [
    "from typing import Any, List\n",
    "def my_func(a: Any):\n",
    "    # assert isinstance(a, Any), \"a має бути цілим числом\"\n",
    "    print(f\"Передано {a} яке має тип {type(a)}\")\n",
    "\n",
    "# my_func() # TypeError: my_func() missing 1 required positional argument: 'a'\n",
    "my_func(\"5\")"
   ]
  }
 ],
 "metadata": {
  "kernelspec": {
   "display_name": "Python 3",
   "language": "python",
   "name": "python3"
  },
  "language_info": {
   "codemirror_mode": {
    "name": "ipython",
    "version": 3
   },
   "file_extension": ".py",
   "mimetype": "text/x-python",
   "name": "python",
   "nbconvert_exporter": "python",
   "pygments_lexer": "ipython3",
   "version": "3.13.7"
  }
 },
 "nbformat": 4,
 "nbformat_minor": 5
}
