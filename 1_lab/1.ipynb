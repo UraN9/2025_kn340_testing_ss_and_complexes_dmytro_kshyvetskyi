{
 "cells": [
  {
   "cell_type": "markdown",
   "id": "181eb68f",
   "metadata": {},
   "source": [
    "## Базові перевірки/твердження assert"
   ]
  },
  {
   "cell_type": "code",
   "execution_count": null,
   "id": "87dc262b",
   "metadata": {},
   "outputs": [],
   "source": [
    "a = input(\"Введіть число: \")\n",
    "assert a.isdigit(), \"Введено не число\"\n",
    "print(f\"Введено: {a}\")"
   ]
  },
  {
   "cell_type": "code",
   "execution_count": null,
   "id": "b6a222ce",
   "metadata": {},
   "outputs": [],
   "source": [
    "b = input(\"Введіть слово українською мовою: \")\n",
    "import re\n",
    "if bool(re.fullmatch(r\"[А-Яа-яІіЇїЄєҐґ]+\", b)):\n",
    "    print(\"Молодець що спілкуєшся українською!\")\n",
    "else:\n",
    "    raise AssertionError(\"Ми просили спілкуватися українською мовою!\")\n",
    "\n",
    "\n"
   ]
  },
  {
   "cell_type": "markdown",
   "id": "a06f9bcd",
   "metadata": {},
   "source": [
    "# Приклад реального життя\n",
    "- Просумувати можна лише числа у списку але не одне число"
   ]
  },
  {
   "cell_type": "code",
   "execution_count": null,
   "id": "6c58d081",
   "metadata": {},
   "outputs": [],
   "source": [
    "ll = [1]   \n",
    "isinstance(ll, list)\n",
    "\n",
    "# sum(1) # Це буде помилка, одне число не можна просумувати\n",
    "sum([1]) # Одне число у списку можна просумувати"
   ]
  },
  {
   "cell_type": "code",
   "execution_count": null,
   "id": "0e0681ad",
   "metadata": {},
   "outputs": [],
   "source": [
    "from typing import Any, List\n",
    "def my_func(a: Any):\n",
    "    # assert isinstance(a, Any), \"a має бути цілим числом\"\n",
    "    print(f\"Передано {a} яке має тип {type(a)}\")\n",
    "\n",
    "# my_func() # TypeError: my_func() missing 1 required positional argument: 'a'\n",
    "my_func(\"5\")"
   ]
  },
  {
   "cell_type": "markdown",
   "id": "bc5fc7db",
   "metadata": {},
   "source": [
    "- використання різних перевірок разом з твердженнями"
   ]
  },
  {
   "cell_type": "code",
   "execution_count": null,
   "id": "926ed7e2",
   "metadata": {},
   "outputs": [],
   "source": [
    "n1 = 2\n",
    "max_number = 3\n",
    "assert n1 < max_number, f\"n1={n1} має бути менше {max_number}\"\n",
    "assert n1 == 2, f\"n1={n1} має бути рівне 2\"\n",
    "assert n1 != 5, f\"n1={n1} не рівне 5\"\n",
    "\n",
    "n2 = 2.0\n",
    "assert n1 == n2\n",
    "# # Тут буде помилка, бо це різні об'єкти в пам'яті\n",
    "# # AssertionError: n1=2 і n2=2.0 мають бути тим самим об'єктом в пам'яті\n",
    "# assert n1 is n2, f\"n1={n1} і n2={n2} мають бути тим самим об'єктом в пам'яті\"\n",
    "\n"
   ]
  },
  {
   "cell_type": "code",
   "execution_count": null,
   "id": "cfffeefe",
   "metadata": {},
   "outputs": [],
   "source": [
    "class TheNumber:\n",
    "    def __init__(self, n):\n",
    "        self.n = n\n",
    "\n",
    "num1 = TheNumber(5)\n",
    "num2 = TheNumber(5)\n",
    "\n",
    "assert num1 is num2"
   ]
  },
  {
   "cell_type": "code",
   "execution_count": null,
   "id": "b8c36e6c",
   "metadata": {},
   "outputs": [],
   "source": [
    "def my_always_fails() -> bool:\n",
    "    for i in range(10):\n",
    "        print(i)\n",
    "    return i > 10 #\"Ця функція завжди повертає False\"\n",
    "\n",
    "assert my_always_fails(), \"my_always_fails має повертати True\""
   ]
  },
  {
   "cell_type": "code",
   "execution_count": null,
   "id": "2987f3b9",
   "metadata": {},
   "outputs": [],
   "source": [
    "import math\n",
    "ll = [-1, -2, 0]\n",
    "# Перевіряємо чи з набору чисел можна отриамати їх корені\n",
    "assert [math.sqrt(i) for i in ll if i > 1], \"Перевірка квадратів чисел\""
   ]
  },
  {
   "cell_type": "code",
   "execution_count": null,
   "id": "4a5953ab",
   "metadata": {},
   "outputs": [],
   "source": [
    "math.sqrt(-4)"
   ]
  },
  {
   "cell_type": "markdown",
   "id": "2fca71a9",
   "metadata": {},
   "source": [
    "- перевірка на API, приклад коли в одній версії такий функціонал існує, а в наступній версії вже ні"
   ]
  },
  {
   "cell_type": "code",
   "execution_count": null,
   "id": "eb8d830f",
   "metadata": {},
   "outputs": [],
   "source": [
    "dd = {\"a\": 1, \"b\": 2}\n",
    "assert \"c\" in dd, \"Перевірка наявності ключа у словнику\"\n",
    "print(dd[\"c\"])"
   ]
  },
  {
   "cell_type": "markdown",
   "id": "4f39295b",
   "metadata": {},
   "source": [
    "## Створюємо гру \"Вгадай слово\"\n",
    "- задано масив слів, і випадково вибирається одне з них\n",
    "- ми маємо вгадати слово вводячи букви\n",
    "- в нас є певна кількість спроб щоб вгадати"
   ]
  },
  {
   "cell_type": "code",
   "execution_count": 2,
   "id": "ead2fe85",
   "metadata": {},
   "outputs": [],
   "source": [
    "WORDS = [\"apple\", \"banana\", \"cherry\", \"orange\", \"python\"]"
   ]
  },
  {
   "cell_type": "code",
   "execution_count": null,
   "id": "34f71958",
   "metadata": {},
   "outputs": [
    {
     "name": "stdout",
     "output_type": "stream",
     "text": [
      "Результат перевірки літери '{'ф'}' у слові: ******\n",
      "Результат перевірки літери '{'a', 'ф'}' у слові: ******\n",
      "Результат перевірки літери '{'p', 'a', 'ф'}' у слові: ******\n",
      "Результат перевірки літери '{'p', 'a', 'o', 'ф'}' у слові: ******\n",
      "Результат перевірки літери '{'a', 'ф', 'p', 'o', 'c'}' у слові: c*****\n",
      "Результат перевірки літери '{'a', 'ф', 'p', 'o', 'c', 'h'}' у слові: ch****\n",
      "Результат перевірки літери '{'a', 'ф', 'p', 'e', 'o', 'c', 'h'}' у слові: che***\n",
      "Результат перевірки літери '{'a', 'ф', 'r', 'p', 'e', 'o', 'c', 'h'}' у слові: cherr*\n",
      "Результат перевірки літери '{'a', 'ф', 'r', 'p', 'e', 'o', 'y', 'c', 'h'}' у слові: cherry\n",
      "Ви вгадали слово 'cherry'!\n",
      "Гру завершено! загадане слово було: cherry\n"
     ]
    }
   ],
   "source": [
    "from random import choice\n",
    "from typing import List, Set\n",
    "def choose_secret_word(words: List[str]) -> str:\n",
    "    return choice(words)\n",
    "\n",
    "def enter_letter_from_user() -> str:\n",
    "    letter = input(\"Введіть одну літеру: \").lower()\n",
    "    return letter\n",
    "\n",
    "def check_letters_in_word(letters: Set[str], word: str) -> str:\n",
    "    return \"\".join([l if l in letters else \"*\" for l in word])\n",
    "\n",
    "def check_if_word_guessed(letters: Set[str], word: str) -> bool:\n",
    "    return all(l in letters for l in word)\n",
    "\n",
    "def main():\n",
    "    secret_word = choose_secret_word(WORDS)\n",
    "    # print(f\"Загадане слово: {secret_word}\")\n",
    "    entered_user_letters = set()\n",
    "    for _ in range(len(secret_word) + 3):\n",
    "        entered_user_letters.add(enter_letter_from_user())\n",
    "        result = check_letters_in_word(entered_user_letters, secret_word)\n",
    "        print(f\"Результат перевірки літери '{entered_user_letters}' у слові: {result}\")\n",
    "        if check_if_word_guessed(entered_user_letters, secret_word):\n",
    "            print(f\"Ви вгадали слово !\")\n",
    "            break\n",
    "    if not check_if_word_guessed(entered_user_letters, secret_word):\n",
    "        print(f\"Ви не вгадали слово !\")\n",
    "    print(\"Гру завершено! загадане слово було:\", secret_word)\n",
    "\n",
    "if __name__ == \"__main__\":\n",
    "    main()"
   ]
  },
  {
   "cell_type": "markdown",
   "id": "986e5cd4",
   "metadata": {},
   "source": [
    "- кожна функція тест кейсу має починатись з `test_`"
   ]
  },
  {
   "cell_type": "code",
   "execution_count": null,
   "id": "cebe875c",
   "metadata": {},
   "outputs": [],
   "source": [
    "import unittest\n",
    "\n",
    "class TestWordChoice(unittest.TestCase):\n",
    "    def test_word_in_list(self):\n",
    "        word = choose_secret_word(WORDS)\n",
    "        self.assertIn(word, WORDS, f\"Слово {word} має бути у списку {WORDS}\")\n",
    "\n",
    "    def test_word_is_string(self):\n",
    "        word = choose_secret_word(WORDS)\n",
    "        self.assertIsInstance(word, str, f\"Слово {word} має бути рядком\")\n",
    "\n",
    "    def test_word_length(self):\n",
    "        word = choose_secret_word(WORDS)\n",
    "        self.assertGreater(len(word), 0, \"Слово має бути не порожнім\")\n",
    "        self.assertLessEqual(len(word), 20, \"Слово має бути не довшим за 20 символів\")\n",
    "\n",
    "    def test_word_not_numeric(self):\n",
    "        word = choose_secret_word(WORDS)\n",
    "        self.assertFalse(word.isdigit(), f\"Слово {word} не має бути числом\")\n",
    "\n",
    "    def test_word_not_empty(self):\n",
    "        word = choose_secret_word(WORDS)\n",
    "        self.assertNotEqual(word, \"\", \"Слово не має бути порожнім\")"
   ]
  }
 ],
 "metadata": {
  "kernelspec": {
   "display_name": "Python 3",
   "language": "python",
   "name": "python3"
  },
  "language_info": {
   "codemirror_mode": {
    "name": "ipython",
    "version": 3
   },
   "file_extension": ".py",
   "mimetype": "text/x-python",
   "name": "python",
   "nbconvert_exporter": "python",
   "pygments_lexer": "ipython3",
   "version": "3.13.7"
  }
 },
 "nbformat": 4,
 "nbformat_minor": 5
}
